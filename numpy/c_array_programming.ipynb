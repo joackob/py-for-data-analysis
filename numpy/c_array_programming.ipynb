{
 "cells": [
  {
   "cell_type": "code",
   "execution_count": 15,
   "metadata": {},
   "outputs": [],
   "source": [
    "import numpy as np\n"
   ]
  },
  {
   "attachments": {},
   "cell_type": "markdown",
   "metadata": {},
   "source": [
    "# Expressing Conditional Logic as Array Operations\n",
    "\n",
    "The numpy.where function is a vectorized version of the ternary expression x if condition else y. Suppose we wanted to take a value from xarr whenever the corresponding value in cond is True, and otherwise take the value from yarr.\n"
   ]
  },
  {
   "cell_type": "code",
   "execution_count": 16,
   "metadata": {},
   "outputs": [
    {
     "data": {
      "text/plain": [
       "(array([1.1, 1.2, 1.3, 1.4, 1.5]),\n",
       " array([2.1, 2.2, 2.3, 2.4, 2.5]),\n",
       " array([ True, False,  True,  True, False]))"
      ]
     },
     "execution_count": 16,
     "metadata": {},
     "output_type": "execute_result"
    }
   ],
   "source": [
    "xarr = np.arange(start=1.1, step=0.1, stop=1.6)\n",
    "yarr = np.arange(start=2.1, step=0.1, stop=2.6)\n",
    "cond = np.array([True, False, True, True, False])\n",
    "xarr, yarr, cond\n"
   ]
  },
  {
   "attachments": {},
   "cell_type": "markdown",
   "metadata": {},
   "source": [
    "With np.where you can write this very concisely:\n"
   ]
  },
  {
   "cell_type": "code",
   "execution_count": 17,
   "metadata": {},
   "outputs": [
    {
     "data": {
      "text/plain": [
       "array([1.1, 2.2, 1.3, 1.4, 2.5])"
      ]
     },
     "execution_count": 17,
     "metadata": {},
     "output_type": "execute_result"
    }
   ],
   "source": [
    "result = np.where(cond, xarr, yarr)\n",
    "result\n"
   ]
  },
  {
   "attachments": {},
   "cell_type": "markdown",
   "metadata": {},
   "source": [
    "The second and third arguments to np.where don’t need to be arrays; one or both of them can be scalars. A typical use of where in data analysis is to produce a new array of values based on another array. Suppose you had a matrix of randomly generated data and you wanted to replace all positive values with 2 and all negative values with –2. This is very easy to do with np.where:\n"
   ]
  },
  {
   "cell_type": "code",
   "execution_count": 18,
   "metadata": {},
   "outputs": [
    {
     "data": {
      "text/plain": [
       "array([[ 0.56477632, -0.83296765,  0.11340605,  0.45627625],\n",
       "       [ 1.09754627, -0.51709855, -0.23764989,  0.91761604],\n",
       "       [ 0.70965609,  1.26222344,  0.40078502, -0.58774101],\n",
       "       [-0.15440465,  0.73497019, -1.14298642,  0.37199666]])"
      ]
     },
     "execution_count": 18,
     "metadata": {},
     "output_type": "execute_result"
    }
   ],
   "source": [
    "m = np.random.randn(4, 4)\n",
    "m\n"
   ]
  },
  {
   "cell_type": "code",
   "execution_count": 19,
   "metadata": {},
   "outputs": [
    {
     "data": {
      "text/plain": [
       "array([[ 2, -2,  2,  2],\n",
       "       [ 2, -2, -2,  2],\n",
       "       [ 2,  2,  2, -2],\n",
       "       [-2,  2, -2,  2]])"
      ]
     },
     "execution_count": 19,
     "metadata": {},
     "output_type": "execute_result"
    }
   ],
   "source": [
    "result = np.where(m > 0, 2, -2)\n",
    "result\n"
   ]
  },
  {
   "attachments": {},
   "cell_type": "markdown",
   "metadata": {},
   "source": [
    "You can combine scalars and arrays when using np.where. For example, I can replace all positive values in arr with the constant 2 like so:\n"
   ]
  },
  {
   "cell_type": "code",
   "execution_count": 20,
   "metadata": {},
   "outputs": [
    {
     "data": {
      "text/plain": [
       "array([[ 2.        , -0.83296765,  2.        ,  2.        ],\n",
       "       [ 2.        , -0.51709855, -0.23764989,  2.        ],\n",
       "       [ 2.        ,  2.        ,  2.        , -0.58774101],\n",
       "       [-0.15440465,  2.        , -1.14298642,  2.        ]])"
      ]
     },
     "execution_count": 20,
     "metadata": {},
     "output_type": "execute_result"
    }
   ],
   "source": [
    "result = np.where(m > 0, 2, m)\n",
    "result\n"
   ]
  },
  {
   "attachments": {},
   "cell_type": "markdown",
   "metadata": {},
   "source": [
    "# Mathematical and Statistical Methods\n",
    "\n",
    "A set of mathematical functions that compute statistics about an entire array or about the data along an axis are accessible as methods of the array class. You can use aggregations (often called reductions) like sum, mean, and std (standard deviation) either by calling the array instance method or using the top-level NumPy function.\n",
    "\n",
    "Here I generate some normally distributed random data and compute some aggregate statistics:\n"
   ]
  },
  {
   "cell_type": "code",
   "execution_count": 21,
   "metadata": {},
   "outputs": [
    {
     "data": {
      "text/plain": [
       "array([[-1.1354769 , -0.48978961,  0.76804497, -1.11897213],\n",
       "       [-1.36503729, -1.50580294,  1.97442652, -0.97159495],\n",
       "       [-1.55358628, -0.01695896, -0.54869175,  1.12179302],\n",
       "       [-0.79947024, -1.60634224,  1.29081576,  1.24115984],\n",
       "       [-0.58440398,  0.11506659, -0.15008582, -0.37541367]])"
      ]
     },
     "execution_count": 21,
     "metadata": {},
     "output_type": "execute_result"
    }
   ],
   "source": [
    "arr = np.random.randn(5, 4)\n",
    "arr\n"
   ]
  },
  {
   "cell_type": "code",
   "execution_count": 22,
   "metadata": {},
   "outputs": [
    {
     "data": {
      "text/plain": [
       "-5.710320051091419"
      ]
     },
     "execution_count": 22,
     "metadata": {},
     "output_type": "execute_result"
    }
   ],
   "source": [
    "sum = arr.sum()\n",
    "sum\n"
   ]
  },
  {
   "cell_type": "code",
   "execution_count": 23,
   "metadata": {},
   "outputs": [
    {
     "data": {
      "text/plain": [
       "array([-5.4379747 , -3.50382715,  3.33450967, -0.10302787])"
      ]
     },
     "execution_count": 23,
     "metadata": {},
     "output_type": "execute_result"
    }
   ],
   "source": [
    "sum = arr.sum(axis=0)\n",
    "sum\n"
   ]
  },
  {
   "cell_type": "code",
   "execution_count": 24,
   "metadata": {},
   "outputs": [
    {
     "data": {
      "text/plain": [
       "array([-0.49404842, -0.46700217, -0.24936099,  0.03154078, -0.24870922])"
      ]
     },
     "execution_count": 24,
     "metadata": {},
     "output_type": "execute_result"
    }
   ],
   "source": [
    "mean = arr.mean(axis=1)\n",
    "mean\n"
   ]
  },
  {
   "attachments": {},
   "cell_type": "markdown",
   "metadata": {},
   "source": [
    "Other methods like cumsum and cumprod do not aggregate, instead producing an array of the intermediate results:\n"
   ]
  },
  {
   "cell_type": "code",
   "execution_count": 25,
   "metadata": {},
   "outputs": [
    {
     "data": {
      "text/plain": [
       "array([0, 1, 2, 3, 4, 5, 6, 7])"
      ]
     },
     "execution_count": 25,
     "metadata": {},
     "output_type": "execute_result"
    }
   ],
   "source": [
    "arr = np.arange(start=0, stop=8)\n",
    "arr\n"
   ]
  },
  {
   "cell_type": "code",
   "execution_count": 26,
   "metadata": {},
   "outputs": [
    {
     "data": {
      "text/plain": [
       "array([ 0,  1,  3,  6, 10, 15, 21, 28])"
      ]
     },
     "execution_count": 26,
     "metadata": {},
     "output_type": "execute_result"
    }
   ],
   "source": [
    "acum = arr.cumsum()\n",
    "acum\n"
   ]
  },
  {
   "attachments": {},
   "cell_type": "markdown",
   "metadata": {},
   "source": [
    "| Method           | Description                                                                                                          |\n",
    "| :--------------- | :------------------------------------------------------------------------------------------------------------------- |\n",
    "| `sum`            | Sum of all the elements in the array or along an axis; zero-length arrays have sum 0                                 |\n",
    "| `mean`           | Arithmetic mean; zero-length arrays have `NaN` mean                                                                  |\n",
    "| `std, var`       | Standard deviation and variance, respectively, with optional degrees of freedom adjustment (default denominator `n`) |\n",
    "| `min, max`       | Minimum and maximum                                                                                                  |\n",
    "| `argmin, argmax` | Indices of minimum and maximum elements, respectively                                                                |\n",
    "| `cumsum`         | Cumulative sum of elements starting from 0                                                                           |\n",
    "| `cumprod`        | Cumulative product of elements starting from 1                                                                       |\n"
   ]
  }
 ],
 "metadata": {
  "kernelspec": {
   "display_name": "Python 3",
   "language": "python",
   "name": "python3"
  },
  "language_info": {
   "codemirror_mode": {
    "name": "ipython",
    "version": 3
   },
   "file_extension": ".py",
   "mimetype": "text/x-python",
   "name": "python",
   "nbconvert_exporter": "python",
   "pygments_lexer": "ipython3",
   "version": "3.11.2"
  },
  "orig_nbformat": 4
 },
 "nbformat": 4,
 "nbformat_minor": 2
}
