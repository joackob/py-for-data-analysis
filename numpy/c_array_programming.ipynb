{
  "cells": [
    {
      "cell_type": "code",
      "execution_count": 1,
      "metadata": {},
      "outputs": [],
      "source": [
        "import numpy as np\n"
      ]
    },
    {
      "attachments": {},
      "cell_type": "markdown",
      "metadata": {},
      "source": [
        "# Expressing Conditional Logic as Array Operations\n",
        "\n",
        "The numpy.where function is a vectorized version of the ternary expression x if condition else y. Suppose we wanted to take a value from xarr whenever the corresponding value in cond is True, and otherwise take the value from yarr.\n"
      ]
    },
    {
      "cell_type": "code",
      "execution_count": 2,
      "metadata": {},
      "outputs": [
        {
          "data": {
            "text/plain": [
              "(array([1.1, 1.2, 1.3, 1.4, 1.5]),\n",
              " array([2.1, 2.2, 2.3, 2.4, 2.5]),\n",
              " array([ True, False,  True,  True, False]))"
            ]
          },
          "execution_count": 2,
          "metadata": {},
          "output_type": "execute_result"
        }
      ],
      "source": [
        "xarr = np.arange(start=1.1, step=0.1, stop=1.6)\n",
        "yarr = np.arange(start=2.1, step=0.1, stop=2.6)\n",
        "cond = np.array([True, False, True, True, False])\n",
        "xarr, yarr, cond\n"
      ]
    },
    {
      "attachments": {},
      "cell_type": "markdown",
      "metadata": {},
      "source": [
        "With np.where you can write this very concisely:\n"
      ]
    },
    {
      "cell_type": "code",
      "execution_count": 3,
      "metadata": {},
      "outputs": [
        {
          "data": {
            "text/plain": [
              "array([1.1, 2.2, 1.3, 1.4, 2.5])"
            ]
          },
          "execution_count": 3,
          "metadata": {},
          "output_type": "execute_result"
        }
      ],
      "source": [
        "result = np.where(cond, xarr, yarr)\n",
        "result\n"
      ]
    },
    {
      "attachments": {},
      "cell_type": "markdown",
      "metadata": {},
      "source": [
        "The second and third arguments to np.where don’t need to be arrays; one or both of them can be scalars. A typical use of where in data analysis is to produce a new array of values based on another array. Suppose you had a matrix of randomly generated data and you wanted to replace all positive values with 2 and all negative values with –2. This is very easy to do with np.where:\n"
      ]
    },
    {
      "cell_type": "code",
      "execution_count": 4,
      "metadata": {},
      "outputs": [
        {
          "data": {
            "text/plain": [
              "array([[ 0.60939168,  1.08276868,  0.98268378, -0.62907132],\n",
              "       [ 0.1334483 ,  0.74168218, -0.95300511,  1.09515104],\n",
              "       [ 1.19786805, -0.65440392, -1.00390772,  0.30685435],\n",
              "       [ 0.6359652 ,  1.0193255 , -0.43315041,  2.35661525]])"
            ]
          },
          "execution_count": 4,
          "metadata": {},
          "output_type": "execute_result"
        }
      ],
      "source": [
        "m = np.random.randn(4, 4)\n",
        "m\n"
      ]
    },
    {
      "cell_type": "code",
      "execution_count": 5,
      "metadata": {},
      "outputs": [
        {
          "data": {
            "text/plain": [
              "array([[ 2,  2,  2, -2],\n",
              "       [ 2,  2, -2,  2],\n",
              "       [ 2, -2, -2,  2],\n",
              "       [ 2,  2, -2,  2]])"
            ]
          },
          "execution_count": 5,
          "metadata": {},
          "output_type": "execute_result"
        }
      ],
      "source": [
        "result = np.where(m > 0, 2, -2)\n",
        "result\n"
      ]
    },
    {
      "attachments": {},
      "cell_type": "markdown",
      "metadata": {},
      "source": [
        "You can combine scalars and arrays when using np.where. For example, I can replace all positive values in arr with the constant 2 like so:\n"
      ]
    },
    {
      "cell_type": "code",
      "execution_count": 6,
      "metadata": {},
      "outputs": [
        {
          "data": {
            "text/plain": [
              "array([[ 2.        ,  2.        ,  2.        , -0.62907132],\n",
              "       [ 2.        ,  2.        , -0.95300511,  2.        ],\n",
              "       [ 2.        , -0.65440392, -1.00390772,  2.        ],\n",
              "       [ 2.        ,  2.        , -0.43315041,  2.        ]])"
            ]
          },
          "execution_count": 6,
          "metadata": {},
          "output_type": "execute_result"
        }
      ],
      "source": [
        "result = np.where(m > 0, 2, m)\n",
        "result\n"
      ]
    },
    {
      "attachments": {},
      "cell_type": "markdown",
      "metadata": {},
      "source": [
        "# Mathematical and Statistical Methods\n",
        "\n",
        "A set of mathematical functions that compute statistics about an entire array or about the data along an axis are accessible as methods of the array class. You can use aggregations (often called reductions) like sum, mean, and std (standard deviation) either by calling the array instance method or using the top-level NumPy function.\n",
        "\n",
        "Here I generate some normally distributed random data and compute some aggregate statistics:\n"
      ]
    },
    {
      "cell_type": "code",
      "execution_count": 7,
      "metadata": {},
      "outputs": [
        {
          "data": {
            "text/plain": [
              "array([[ 0.38722757,  1.28912749,  0.936109  ,  0.73506686],\n",
              "       [-0.46547212,  0.05628195,  0.77696951, -0.31563924],\n",
              "       [ 1.0002844 , -1.10868044,  0.54102666,  0.61956304],\n",
              "       [ 0.45451437,  0.90369383, -2.21420719,  0.131808  ],\n",
              "       [-0.67456163, -1.64932903,  1.26294601, -0.52103275]])"
            ]
          },
          "execution_count": 7,
          "metadata": {},
          "output_type": "execute_result"
        }
      ],
      "source": [
        "arr = np.random.randn(5, 4)\n",
        "arr\n"
      ]
    },
    {
      "cell_type": "code",
      "execution_count": 8,
      "metadata": {},
      "outputs": [
        {
          "data": {
            "text/plain": [
              "2.145696315013355"
            ]
          },
          "execution_count": 8,
          "metadata": {},
          "output_type": "execute_result"
        }
      ],
      "source": [
        "sum = arr.sum()\n",
        "sum\n"
      ]
    },
    {
      "cell_type": "code",
      "execution_count": 9,
      "metadata": {},
      "outputs": [
        {
          "data": {
            "text/plain": [
              "(array([ 0.70199259, -0.50890619,  1.30284399,  0.64976592]),\n",
              " array([ 0.70199259, -0.50890619,  1.30284399,  0.64976592]))"
            ]
          },
          "execution_count": 9,
          "metadata": {},
          "output_type": "execute_result"
        }
      ],
      "source": [
        "sum_a = arr.sum(axis=0)\n",
        "sum_b = np.sum(a=arr, axis=0)\n",
        "sum_a, sum_b\n"
      ]
    },
    {
      "cell_type": "code",
      "execution_count": 10,
      "metadata": {},
      "outputs": [
        {
          "data": {
            "text/plain": [
              "(array([ 0.83688273,  0.01303503,  0.26304842, -0.18104775, -0.39549435]),\n",
              " array([ 0.83688273,  0.01303503,  0.26304842, -0.18104775, -0.39549435]))"
            ]
          },
          "execution_count": 10,
          "metadata": {},
          "output_type": "execute_result"
        }
      ],
      "source": [
        "mean_a = arr.mean(axis=1)\n",
        "mean_b = np.mean(a=arr, axis=1)\n",
        "mean_a, mean_b\n"
      ]
    },
    {
      "attachments": {},
      "cell_type": "markdown",
      "metadata": {},
      "source": [
        "Other methods like cumsum and cumprod do not aggregate, instead producing an array of the intermediate results:\n"
      ]
    },
    {
      "cell_type": "code",
      "execution_count": 11,
      "metadata": {},
      "outputs": [
        {
          "data": {
            "text/plain": [
              "array([0, 1, 2, 3, 4, 5, 6, 7])"
            ]
          },
          "execution_count": 11,
          "metadata": {},
          "output_type": "execute_result"
        }
      ],
      "source": [
        "arr = np.arange(start=0, stop=8)\n",
        "arr\n"
      ]
    },
    {
      "cell_type": "code",
      "execution_count": 12,
      "metadata": {},
      "outputs": [
        {
          "data": {
            "text/plain": [
              "array([ 0,  1,  3,  6, 10, 15, 21, 28])"
            ]
          },
          "execution_count": 12,
          "metadata": {},
          "output_type": "execute_result"
        }
      ],
      "source": [
        "acum = arr.cumsum()\n",
        "acum\n"
      ]
    },
    {
      "attachments": {},
      "cell_type": "markdown",
      "metadata": {},
      "source": [
        "| Method           | Description                                                                                                          |\n",
        "| :--------------- | :------------------------------------------------------------------------------------------------------------------- |\n",
        "| `sum`            | Sum of all the elements in the array or along an axis; zero-length arrays have sum 0                                 |\n",
        "| `mean`           | Arithmetic mean; zero-length arrays have `NaN` mean                                                                  |\n",
        "| `std, var`       | Standard deviation and variance, respectively, with optional degrees of freedom adjustment (default denominator `n`) |\n",
        "| `min, max`       | Minimum and maximum                                                                                                  |\n",
        "| `argmin, argmax` | Indices of minimum and maximum elements, respectively                                                                |\n",
        "| `cumsum`         | Cumulative sum of elements starting from 0                                                                           |\n",
        "| `cumprod`        | Cumulative product of elements starting from 1                                                                       |\n"
      ]
    },
    {
      "attachments": {},
      "cell_type": "markdown",
      "metadata": {},
      "source": [
        "# Methods for Boolean Arrays\n",
        "\n",
        "Boolean values are coerced to 1 (True) and 0 (False) in the preceding methods. Thus, sum is often used as a means of counting True values in a boolean array:\n"
      ]
    },
    {
      "cell_type": "code",
      "execution_count": 13,
      "metadata": {},
      "outputs": [
        {
          "data": {
            "text/plain": [
              "array([ 0.25610137,  1.080277  ,  0.70012291, -0.44552899, -0.09809048,\n",
              "        0.60182069, -1.93348683,  0.37037748, -1.55542559,  0.12206625])"
            ]
          },
          "execution_count": 13,
          "metadata": {},
          "output_type": "execute_result"
        }
      ],
      "source": [
        "arr = np.random.randn(10)\n",
        "arr\n"
      ]
    },
    {
      "cell_type": "code",
      "execution_count": 14,
      "metadata": {},
      "outputs": [
        {
          "data": {
            "text/plain": [
              "(6, 6)"
            ]
          },
          "execution_count": 14,
          "metadata": {},
          "output_type": "execute_result"
        }
      ],
      "source": [
        "count_a = (arr > 0).sum()\n",
        "count_b = np.sum(a=arr > 0)\n",
        "count_a, count_b\n"
      ]
    },
    {
      "attachments": {},
      "cell_type": "markdown",
      "metadata": {},
      "source": [
        "There are two additional methods, any and all, useful especially for boolean arrays. any tests whether one or more values in an array is True, while all checks if every value is True:\n"
      ]
    },
    {
      "cell_type": "code",
      "execution_count": 15,
      "metadata": {},
      "outputs": [
        {
          "data": {
            "text/plain": [
              "array([ True,  True,  True, False, False,  True, False,  True, False,\n",
              "        True])"
            ]
          },
          "execution_count": 15,
          "metadata": {},
          "output_type": "execute_result"
        }
      ],
      "source": [
        "bools = arr > 0\n",
        "bools\n"
      ]
    },
    {
      "cell_type": "code",
      "execution_count": 16,
      "metadata": {},
      "outputs": [
        {
          "data": {
            "text/plain": [
              "True"
            ]
          },
          "execution_count": 16,
          "metadata": {},
          "output_type": "execute_result"
        }
      ],
      "source": [
        "np.any(arr > 0)\n"
      ]
    },
    {
      "cell_type": "code",
      "execution_count": 17,
      "metadata": {},
      "outputs": [
        {
          "data": {
            "text/plain": [
              "False"
            ]
          },
          "execution_count": 17,
          "metadata": {},
          "output_type": "execute_result"
        }
      ],
      "source": [
        "np.all(arr > 0)\n"
      ]
    }
  ],
  "metadata": {
    "kernelspec": {
      "display_name": "Python 3",
      "language": "python",
      "name": "python3"
    },
    "language_info": {
      "codemirror_mode": {
        "name": "ipython",
        "version": 3
      },
      "file_extension": ".py",
      "mimetype": "text/x-python",
      "name": "python",
      "nbconvert_exporter": "python",
      "pygments_lexer": "ipython3",
      "version": "3.11.2"
    },
    "orig_nbformat": 4
  },
  "nbformat": 4,
  "nbformat_minor": 2
}
