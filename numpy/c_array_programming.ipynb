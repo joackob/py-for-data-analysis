{
  "cells": [
    {
      "cell_type": "code",
      "execution_count": 2,
      "metadata": {},
      "outputs": [],
      "source": [
        "import numpy as np\n"
      ]
    },
    {
      "attachments": {},
      "cell_type": "markdown",
      "metadata": {},
      "source": [
        "# Expressing Conditional Logic as Array Operations\n",
        "\n",
        "The numpy.where function is a vectorized version of the ternary expression x if condition else y. Suppose we wanted to take a value from xarr whenever the corresponding value in cond is True, and otherwise take the value from yarr.\n"
      ]
    },
    {
      "cell_type": "code",
      "execution_count": 3,
      "metadata": {},
      "outputs": [
        {
          "data": {
            "text/plain": [
              "(array([1.1, 1.2, 1.3, 1.4, 1.5]),\n",
              " array([2.1, 2.2, 2.3, 2.4, 2.5]),\n",
              " array([ True, False,  True,  True, False]))"
            ]
          },
          "execution_count": 3,
          "metadata": {},
          "output_type": "execute_result"
        }
      ],
      "source": [
        "xarr = np.arange(start=1.1, step=0.1, stop=1.6)\n",
        "yarr = np.arange(start=2.1, step=0.1, stop=2.6)\n",
        "cond = np.array([True, False, True, True, False])\n",
        "xarr, yarr, cond\n"
      ]
    },
    {
      "attachments": {},
      "cell_type": "markdown",
      "metadata": {},
      "source": [
        "With np.where you can write this very concisely:\n"
      ]
    },
    {
      "cell_type": "code",
      "execution_count": 4,
      "metadata": {},
      "outputs": [
        {
          "data": {
            "text/plain": [
              "array([1.1, 2.2, 1.3, 1.4, 2.5])"
            ]
          },
          "execution_count": 4,
          "metadata": {},
          "output_type": "execute_result"
        }
      ],
      "source": [
        "result = np.where(cond, xarr, yarr)\n",
        "result\n"
      ]
    },
    {
      "attachments": {},
      "cell_type": "markdown",
      "metadata": {},
      "source": [
        "The second and third arguments to np.where don’t need to be arrays; one or both of them can be scalars. A typical use of where in data analysis is to produce a new array of values based on another array. Suppose you had a matrix of randomly generated data and you wanted to replace all positive values with 2 and all negative values with –2. This is very easy to do with np.where:\n"
      ]
    },
    {
      "cell_type": "code",
      "execution_count": 5,
      "metadata": {},
      "outputs": [
        {
          "data": {
            "text/plain": [
              "array([[ 0.43147352, -0.24293988,  1.00034004,  0.17874913],\n",
              "       [-1.25347415, -0.69294511, -0.27002237,  0.26531803],\n",
              "       [-0.02968785,  0.45212987, -0.67668495,  0.53517712],\n",
              "       [ 0.05113981,  2.74311302, -0.55341651, -0.93805042]])"
            ]
          },
          "execution_count": 5,
          "metadata": {},
          "output_type": "execute_result"
        }
      ],
      "source": [
        "m = np.random.randn(4, 4)\n",
        "m\n"
      ]
    },
    {
      "cell_type": "code",
      "execution_count": 6,
      "metadata": {},
      "outputs": [
        {
          "data": {
            "text/plain": [
              "array([[ 2, -2,  2,  2],\n",
              "       [-2, -2, -2,  2],\n",
              "       [-2,  2, -2,  2],\n",
              "       [ 2,  2, -2, -2]])"
            ]
          },
          "execution_count": 6,
          "metadata": {},
          "output_type": "execute_result"
        }
      ],
      "source": [
        "result = np.where(m > 0, 2, -2)\n",
        "result\n"
      ]
    },
    {
      "attachments": {},
      "cell_type": "markdown",
      "metadata": {},
      "source": [
        "You can combine scalars and arrays when using np.where. For example, I can replace all positive values in arr with the constant 2 like so:\n"
      ]
    },
    {
      "cell_type": "code",
      "execution_count": 7,
      "metadata": {},
      "outputs": [
        {
          "data": {
            "text/plain": [
              "array([[ 2.        , -0.24293988,  2.        ,  2.        ],\n",
              "       [-1.25347415, -0.69294511, -0.27002237,  2.        ],\n",
              "       [-0.02968785,  2.        , -0.67668495,  2.        ],\n",
              "       [ 2.        ,  2.        , -0.55341651, -0.93805042]])"
            ]
          },
          "execution_count": 7,
          "metadata": {},
          "output_type": "execute_result"
        }
      ],
      "source": [
        "result = np.where(m > 0, 2, m)\n",
        "result\n"
      ]
    },
    {
      "attachments": {},
      "cell_type": "markdown",
      "metadata": {},
      "source": [
        "# Mathematical and Statistical Methods\n",
        "\n",
        "A set of mathematical functions that compute statistics about an entire array or about the data along an axis are accessible as methods of the array class. You can use aggregations (often called reductions) like sum, mean, and std (standard deviation) either by calling the array instance method or using the top-level NumPy function.\n",
        "\n",
        "Here I generate some normally distributed random data and compute some aggregate statistics:\n"
      ]
    },
    {
      "cell_type": "code",
      "execution_count": 8,
      "metadata": {},
      "outputs": [
        {
          "data": {
            "text/plain": [
              "array([[-1.46302906, -0.80702783, -0.40808779, -1.24174822],\n",
              "       [ 1.7239681 , -1.03997388, -1.18737087, -0.25670151],\n",
              "       [ 0.43588169,  0.094249  , -1.51841435,  0.36112125],\n",
              "       [ 1.63713034, -0.78435896, -0.86198267, -0.71655086],\n",
              "       [ 1.86229504,  0.16348912, -0.41143861,  0.29950148]])"
            ]
          },
          "execution_count": 8,
          "metadata": {},
          "output_type": "execute_result"
        }
      ],
      "source": [
        "arr = np.random.randn(5, 4)\n",
        "arr\n"
      ]
    },
    {
      "cell_type": "code",
      "execution_count": 9,
      "metadata": {},
      "outputs": [
        {
          "data": {
            "text/plain": [
              "-4.1190485772668355"
            ]
          },
          "execution_count": 9,
          "metadata": {},
          "output_type": "execute_result"
        }
      ],
      "source": [
        "sum = arr.sum()\n",
        "sum\n"
      ]
    },
    {
      "cell_type": "code",
      "execution_count": 10,
      "metadata": {},
      "outputs": [
        {
          "data": {
            "text/plain": [
              "(array([ 4.19624611, -2.37362255, -4.38729428, -1.55437786]),\n",
              " array([ 4.19624611, -2.37362255, -4.38729428, -1.55437786]))"
            ]
          },
          "execution_count": 10,
          "metadata": {},
          "output_type": "execute_result"
        }
      ],
      "source": [
        "sum_a = arr.sum(axis=0)\n",
        "sum_b = np.sum(a=arr, axis=0)\n",
        "sum_a, sum_b\n"
      ]
    },
    {
      "cell_type": "code",
      "execution_count": 11,
      "metadata": {},
      "outputs": [
        {
          "data": {
            "text/plain": [
              "(array([-0.97997322, -0.19001954, -0.1567906 , -0.18144054,  0.47846176]),\n",
              " array([-0.97997322, -0.19001954, -0.1567906 , -0.18144054,  0.47846176]))"
            ]
          },
          "execution_count": 11,
          "metadata": {},
          "output_type": "execute_result"
        }
      ],
      "source": [
        "mean_a = arr.mean(axis=1)\n",
        "mean_b = np.mean(a=arr, axis=1)\n",
        "mean_a, mean_b\n"
      ]
    },
    {
      "attachments": {},
      "cell_type": "markdown",
      "metadata": {},
      "source": [
        "Other methods like cumsum and cumprod do not aggregate, instead producing an array of the intermediate results:\n"
      ]
    },
    {
      "cell_type": "code",
      "execution_count": 12,
      "metadata": {},
      "outputs": [
        {
          "data": {
            "text/plain": [
              "array([0, 1, 2, 3, 4, 5, 6, 7])"
            ]
          },
          "execution_count": 12,
          "metadata": {},
          "output_type": "execute_result"
        }
      ],
      "source": [
        "arr = np.arange(start=0, stop=8)\n",
        "arr\n"
      ]
    },
    {
      "cell_type": "code",
      "execution_count": 13,
      "metadata": {},
      "outputs": [
        {
          "data": {
            "text/plain": [
              "array([ 0,  1,  3,  6, 10, 15, 21, 28])"
            ]
          },
          "execution_count": 13,
          "metadata": {},
          "output_type": "execute_result"
        }
      ],
      "source": [
        "acum = arr.cumsum()\n",
        "acum\n"
      ]
    },
    {
      "attachments": {},
      "cell_type": "markdown",
      "metadata": {},
      "source": [
        "| Method           | Description                                                                                                          |\n",
        "| :--------------- | :------------------------------------------------------------------------------------------------------------------- |\n",
        "| `sum`            | Sum of all the elements in the array or along an axis; zero-length arrays have sum 0                                 |\n",
        "| `mean`           | Arithmetic mean; zero-length arrays have `NaN` mean                                                                  |\n",
        "| `std, var`       | Standard deviation and variance, respectively, with optional degrees of freedom adjustment (default denominator `n`) |\n",
        "| `min, max`       | Minimum and maximum                                                                                                  |\n",
        "| `argmin, argmax` | Indices of minimum and maximum elements, respectively                                                                |\n",
        "| `cumsum`         | Cumulative sum of elements starting from 0                                                                           |\n",
        "| `cumprod`        | Cumulative product of elements starting from 1                                                                       |\n"
      ]
    },
    {
      "attachments": {},
      "cell_type": "markdown",
      "metadata": {},
      "source": [
        "# Methods for Boolean Arrays\n",
        "\n",
        "Boolean values are coerced to 1 (True) and 0 (False) in the preceding methods. Thus, sum is often used as a means of counting True values in a boolean array:\n"
      ]
    },
    {
      "cell_type": "code",
      "execution_count": 14,
      "metadata": {},
      "outputs": [
        {
          "data": {
            "text/plain": [
              "array([-2.08535515, -0.065388  , -0.03900853, -1.10027577, -0.47926534,\n",
              "       -0.53330293,  1.13014956, -0.36744403,  0.92482734, -0.00957533])"
            ]
          },
          "execution_count": 14,
          "metadata": {},
          "output_type": "execute_result"
        }
      ],
      "source": [
        "arr = np.random.randn(10)\n",
        "arr\n"
      ]
    },
    {
      "cell_type": "code",
      "execution_count": 15,
      "metadata": {},
      "outputs": [
        {
          "data": {
            "text/plain": [
              "(2, 2)"
            ]
          },
          "execution_count": 15,
          "metadata": {},
          "output_type": "execute_result"
        }
      ],
      "source": [
        "count_a = (arr > 0).sum()\n",
        "count_b = np.sum(a=arr > 0)\n",
        "count_a, count_b\n"
      ]
    },
    {
      "attachments": {},
      "cell_type": "markdown",
      "metadata": {},
      "source": [
        "There are two additional methods, any and all, useful especially for boolean arrays. any tests whether one or more values in an array is True, while all checks if every value is True:\n"
      ]
    },
    {
      "cell_type": "code",
      "execution_count": 16,
      "metadata": {},
      "outputs": [
        {
          "data": {
            "text/plain": [
              "array([False, False, False, False, False, False,  True, False,  True,\n",
              "       False])"
            ]
          },
          "execution_count": 16,
          "metadata": {},
          "output_type": "execute_result"
        }
      ],
      "source": [
        "bools = arr > 0\n",
        "bools\n"
      ]
    },
    {
      "cell_type": "code",
      "execution_count": 17,
      "metadata": {},
      "outputs": [
        {
          "data": {
            "text/plain": [
              "True"
            ]
          },
          "execution_count": 17,
          "metadata": {},
          "output_type": "execute_result"
        }
      ],
      "source": [
        "np.any(arr > 0)\n"
      ]
    },
    {
      "cell_type": "code",
      "execution_count": 18,
      "metadata": {},
      "outputs": [
        {
          "data": {
            "text/plain": [
              "False"
            ]
          },
          "execution_count": 18,
          "metadata": {},
          "output_type": "execute_result"
        }
      ],
      "source": [
        "np.all(arr > 0)\n"
      ]
    },
    {
      "attachments": {},
      "cell_type": "markdown",
      "metadata": {},
      "source": [
        "# Sorting\n"
      ]
    },
    {
      "cell_type": "code",
      "execution_count": 19,
      "metadata": {},
      "outputs": [
        {
          "data": {
            "text/plain": [
              "array([[ 0.40024523, -1.16659724,  0.75001878],\n",
              "       [ 1.22973523,  0.75573638, -1.22773601],\n",
              "       [-1.54664885,  0.10042932,  0.76790885],\n",
              "       [ 1.61941165, -0.22804117,  0.35300874],\n",
              "       [ 1.87648378,  0.36577111, -1.56228005]])"
            ]
          },
          "execution_count": 19,
          "metadata": {},
          "output_type": "execute_result"
        }
      ],
      "source": [
        "arr = np.random.randn(5, 3)\n",
        "arr\n"
      ]
    },
    {
      "cell_type": "code",
      "execution_count": 20,
      "metadata": {},
      "outputs": [
        {
          "data": {
            "text/plain": [
              "array([[-1.16659724,  0.40024523,  0.75001878],\n",
              "       [-1.22773601,  0.75573638,  1.22973523],\n",
              "       [-1.54664885,  0.10042932,  0.76790885],\n",
              "       [-0.22804117,  0.35300874,  1.61941165],\n",
              "       [-1.56228005,  0.36577111,  1.87648378]])"
            ]
          },
          "execution_count": 20,
          "metadata": {},
          "output_type": "execute_result"
        }
      ],
      "source": [
        "arr = np.sort(a=arr, axis=1)\n",
        "arr\n"
      ]
    },
    {
      "attachments": {},
      "cell_type": "markdown",
      "metadata": {},
      "source": [
        "# Unique and Other Set Logic\n",
        "\n",
        "NumPy has some basic set operations for one-dimensional ndarrays. A commonly used one is np.unique, which returns the sorted unique values in an array:\n"
      ]
    },
    {
      "cell_type": "code",
      "execution_count": 21,
      "metadata": {},
      "outputs": [
        {
          "data": {
            "text/plain": [
              "array(['Bob', 'Joe', 'Will', 'Bob', 'Will', 'Joe', 'Joe'], dtype='<U4')"
            ]
          },
          "execution_count": 21,
          "metadata": {},
          "output_type": "execute_result"
        }
      ],
      "source": [
        "names = np.array(['Bob', 'Joe', 'Will', 'Bob', 'Will', 'Joe', 'Joe'])\n",
        "names\n"
      ]
    },
    {
      "cell_type": "code",
      "execution_count": 22,
      "metadata": {},
      "outputs": [
        {
          "data": {
            "text/plain": [
              "array(['Bob', 'Joe', 'Will'], dtype='<U4')"
            ]
          },
          "execution_count": 22,
          "metadata": {},
          "output_type": "execute_result"
        }
      ],
      "source": [
        "names = np.unique(ar=names)\n",
        "names\n"
      ]
    },
    {
      "attachments": {},
      "cell_type": "markdown",
      "metadata": {},
      "source": [
        "Another function, np.in1d, tests membership of the values in one array in another, returning a boolean array\n"
      ]
    },
    {
      "cell_type": "code",
      "execution_count": 23,
      "metadata": {},
      "outputs": [
        {
          "data": {
            "text/plain": [
              "array([6, 0, 0, 3, 2, 5, 6])"
            ]
          },
          "execution_count": 23,
          "metadata": {},
          "output_type": "execute_result"
        }
      ],
      "source": [
        "arr = np.array(object=[6, 0, 0, 3, 2, 5, 6])\n",
        "arr\n"
      ]
    },
    {
      "cell_type": "code",
      "execution_count": 24,
      "metadata": {},
      "outputs": [
        {
          "data": {
            "text/plain": [
              "array([ True, False, False,  True,  True, False,  True])"
            ]
          },
          "execution_count": 24,
          "metadata": {},
          "output_type": "execute_result"
        }
      ],
      "source": [
        "arr = np.in1d(ar1=arr, ar2=[2, 3, 6])\n",
        "arr\n"
      ]
    },
    {
      "attachments": {},
      "cell_type": "markdown",
      "metadata": {},
      "source": [
        "| Method              | Description                                                                        |\n",
        "| :------------------ | :--------------------------------------------------------------------------------- |\n",
        "| `unique(x)`         | Compute the sorted, unique elements in `x`                                         |\n",
        "| `intersect1d(x, y)` | Compute the sorted, common elements in `x` and `y`                                 |\n",
        "| `union1d(x, y)`     | Compute the sorted union of elements                                               |\n",
        "| `unique(x)`         | Compute the sorted, unique elements in `x`                                         |\n",
        "| `intersect1d(x, y)` | Compute the sorted, common elements in `x` and `y`                                 |\n",
        "| `union1d(x, y)`     | Compute the sorted union of elements                                               |\n",
        "| `in1d(x, y)`        | Compute a boolean array indicating whether each element of `x` is contained in `y` |\n",
        "| `setdiff1d(x, y)`   | Set difference, elements in `x` that are not in `y`                                |\n",
        "| `setxor1d(x, y)`    | Set symmetric differences; elements that are in either of the arrays, but not both |\n"
      ]
    },
    {
      "attachments": {},
      "cell_type": "markdown",
      "metadata": {},
      "source": [
        "# Linear Algebra\n",
        "\n",
        "Unlike some languages like MATLAB, multiplying two two-dimensional arrays with \\* is an element-wise product instead of a matrix dot product. Thus, there is a function dot, both an array method and a function in the numpy namespace, for matrix multiplication:\n"
      ]
    },
    {
      "cell_type": "code",
      "execution_count": 26,
      "metadata": {},
      "outputs": [
        {
          "data": {
            "text/plain": [
              "(array([[1., 2., 3.],\n",
              "        [4., 5., 6.]]),\n",
              " array([[ 6., 23.],\n",
              "        [-1.,  7.],\n",
              "        [ 8.,  9.]]),\n",
              " (2, 3),\n",
              " (3, 2))"
            ]
          },
          "execution_count": 26,
          "metadata": {},
          "output_type": "execute_result"
        }
      ],
      "source": [
        "x = np.array([[1., 2., 3.], [4., 5., 6.]])\n",
        "y = np.array([[6., 23.], [-1, 7], [8, 9]])\n",
        "x, y, np.shape(a=x), np.shape(a=y)\n"
      ]
    },
    {
      "cell_type": "code",
      "execution_count": 29,
      "metadata": {},
      "outputs": [
        {
          "data": {
            "text/plain": [
              "array([[ 28.,  64.],\n",
              "       [ 67., 181.]])"
            ]
          },
          "execution_count": 29,
          "metadata": {},
          "output_type": "execute_result"
        }
      ],
      "source": [
        "res = np.dot(a=x, b=y)\n",
        "res\n"
      ]
    },
    {
      "attachments": {},
      "cell_type": "markdown",
      "metadata": {},
      "source": [
        "The @ symbol (as of Python 3.5) also works as an infix operator that performs matrix multiplication:\n"
      ]
    },
    {
      "cell_type": "code",
      "execution_count": 30,
      "metadata": {},
      "outputs": [
        {
          "data": {
            "text/plain": [
              "array([[ 28.,  64.],\n",
              "       [ 67., 181.]])"
            ]
          },
          "execution_count": 30,
          "metadata": {},
          "output_type": "execute_result"
        }
      ],
      "source": [
        "res = x @ y\n",
        "res\n"
      ]
    },
    {
      "attachments": {},
      "cell_type": "markdown",
      "metadata": {},
      "source": [
        "numpy.linalg has a standard set of matrix decompositions and things like inverse and determinant. These are implemented under the hood via the same industry-standard linear algebra libraries used in other languages like MATLAB and R, such as BLAS, LAPACK, or possibly (depending on your NumPy build) the proprietary Intel MKL (Math Kernel Library):\n"
      ]
    },
    {
      "cell_type": "code",
      "execution_count": 48,
      "metadata": {},
      "outputs": [
        {
          "data": {
            "text/plain": [
              "array([[-1.28509582,  1.98107986, -1.33629767, -1.00164732, -1.66440623],\n",
              "       [ 0.94985483, -0.79587457, -0.97215701,  0.14036755,  0.68050897],\n",
              "       [-1.84507951, -0.95719089, -1.85382065, -0.33537497, -0.76609293],\n",
              "       [-1.56024073, -1.49149303, -0.08863089, -1.13232226, -0.07151287],\n",
              "       [-0.87481565,  0.48963704, -0.68547723,  0.23272887,  0.49606477]])"
            ]
          },
          "execution_count": 48,
          "metadata": {},
          "output_type": "execute_result"
        }
      ],
      "source": [
        "X = np.random.randn(5, 5)\n",
        "X\n"
      ]
    },
    {
      "cell_type": "code",
      "execution_count": 49,
      "metadata": {},
      "outputs": [
        {
          "data": {
            "text/plain": [
              "array([[ 9.15766741,  0.36299658,  4.95226076,  3.6024355 ,  3.87642064],\n",
              "       [ 0.36299658,  7.93860403, -0.30257982,  0.027763  , -2.75607164],\n",
              "       [ 4.95226076, -0.30257982,  6.64516621,  1.76459311,  2.64907665],\n",
              "       [ 3.6024355 ,  0.027763  ,  1.76459311,  2.47179318,  2.216022  ],\n",
              "       [ 3.87642064, -2.75607164,  2.64907665,  2.216022  ,  4.07143326]])"
            ]
          },
          "execution_count": 49,
          "metadata": {},
          "output_type": "execute_result"
        }
      ],
      "source": [
        "mat = np.dot(a=X.T, b=X)\n",
        "mat\n"
      ]
    },
    {
      "cell_type": "code",
      "execution_count": 50,
      "metadata": {},
      "outputs": [
        {
          "data": {
            "text/plain": [
              "array([[ 0.36915969, -0.06672067, -0.14116197, -0.31880488, -0.13127507],\n",
              "       [-0.06672067,  0.26343916, -0.03168244, -0.23125509,  0.38833749],\n",
              "       [-0.14116197, -0.03168244,  0.27363575,  0.13493938, -0.13853269],\n",
              "       [-0.31880488, -0.23125509,  0.13493938,  1.41082865, -0.70870028],\n",
              "       [-0.13127507,  0.38833749, -0.13853269, -0.70870028,  1.1093495 ]])"
            ]
          },
          "execution_count": 50,
          "metadata": {},
          "output_type": "execute_result"
        }
      ],
      "source": [
        "mat_inverse = np.linalg.inv(a=mat)\n",
        "mat_inverse\n"
      ]
    },
    {
      "cell_type": "code",
      "execution_count": 51,
      "metadata": {},
      "outputs": [
        {
          "data": {
            "text/plain": [
              "array([[ 1.00000000e+00,  5.23112635e-17, -3.14452795e-17,\n",
              "         7.63939021e-17, -3.46793372e-16],\n",
              "       [-2.02424801e-17,  1.00000000e+00, -1.80972107e-17,\n",
              "        -3.52912802e-16,  1.90032722e-16],\n",
              "       [ 1.50525585e-16, -6.84120725e-17,  1.00000000e+00,\n",
              "         3.91540663e-16, -5.50444470e-16],\n",
              "       [-9.52332529e-17, -8.11702344e-17,  5.31810414e-17,\n",
              "         1.00000000e+00, -1.25813677e-16],\n",
              "       [ 2.05521509e-16,  2.53505276e-16, -2.05783203e-17,\n",
              "        -1.82260892e-17,  1.00000000e+00]])"
            ]
          },
          "execution_count": 51,
          "metadata": {},
          "output_type": "execute_result"
        }
      ],
      "source": [
        "mat_id = mat @ mat_inverse\n",
        "mat_id\n"
      ]
    },
    {
      "cell_type": "code",
      "execution_count": 52,
      "metadata": {},
      "outputs": [
        {
          "data": {
            "text/plain": [
              "(array([[-0.78375592, -0.09011992,  0.37777654,  0.47530518, -0.0947361 ],\n",
              "        [-0.03106694, -0.94674052, -0.02746135, -0.1530495 ,  0.28024802],\n",
              "        [-0.42383759,  0.01064367, -0.9001399 , -0.00135784, -0.09997364],\n",
              "        [-0.30831325, -0.02175974,  0.20288745, -0.77571508, -0.51144134],\n",
              "        [-0.33176217,  0.30817853,  0.07152345, -0.38590816,  0.80057426]]),\n",
              " array([[-11.68433584,   0.50291644,  -8.11134555,  -5.06947241,\n",
              "          -6.10929965],\n",
              "        [  0.        ,  -8.40169814,   0.68888769,   0.29699103,\n",
              "           3.49464616],\n",
              "        [  0.        ,   0.        ,  -3.55493714,   0.43176592,\n",
              "          -0.10362734],\n",
              "        [  0.        ,   0.        ,   0.        ,  -1.06697713,\n",
              "          -1.02949985],\n",
              "        [  0.        ,   0.        ,   0.        ,   0.        ,\n",
              "           0.72166099]]))"
            ]
          },
          "execution_count": 52,
          "metadata": {},
          "output_type": "execute_result"
        }
      ],
      "source": [
        "q, r = np.linalg.qr(a=mat)\n",
        "q, r\n"
      ]
    },
    {
      "attachments": {},
      "cell_type": "markdown",
      "metadata": {},
      "source": [
        "| Function | Description                                                                                                                                                |\n",
        "| :------- | :--------------------------------------------------------------------------------------------------------------------------------------------------------- |\n",
        "| `diag`   | Return the diagonal (or off-diagonal) elements of a square matrix as a 1D array, or convert a 1D array into a square matrix with zeros on the off-diagonal |\n",
        "| `dot`    | Matrix multiplication                                                                                                                                      |\n",
        "| `trace`  | Compute the sum of the diagonal elements                                                                                                                   |\n",
        "| `det`    | Compute the matrix determinant                                                                                                                             |\n",
        "| `eig`    | Compute the eigenvalues and eigenvectors of a square matrix                                                                                                |\n",
        "| `inv`    | Compute the inverse of a square matrix                                                                                                                     |\n",
        "| `pinv`   | Compute the Moore-Penrose pseudo-inverse of a matrix                                                                                                       |\n",
        "| `qr`     | Compute the QR decomposition                                                                                                                               |\n",
        "| `svd`    | Compute the singular value decomposition (SVD)                                                                                                             |\n",
        "| `solve`  | Solve the linear system Ax = b for x, where A is a square matrix                                                                                           |\n",
        "| `lstsq`  | Compute the least-squares solution to `Ax = b`                                                                                                             |\n"
      ]
    },
    {
      "attachments": {},
      "cell_type": "markdown",
      "metadata": {},
      "source": [
        "# Pseudorandom Number Generation\n"
      ]
    },
    {
      "attachments": {},
      "cell_type": "markdown",
      "metadata": {},
      "source": [
        "| Function      | Description                                                                                          |\n",
        "| :------------ | :--------------------------------------------------------------------------------------------------- |\n",
        "| `seed`        | Seed the random number generator                                                                     |\n",
        "| `permutation` | Return a random permutation of a sequence, or return a permuted range                                |\n",
        "| `shuffle`     | Randomly permute a sequence in-place                                                                 |\n",
        "| `rand`        | Draw samples from a uniform distribution                                                             |\n",
        "| `randint`     | Draw random integers from a given low-to-high range                                                  |\n",
        "| `randn`       | Draw samples from a normal distribution with mean 0 and standard deviation 1 (MATLAB-like interface) |\n",
        "| `binomial`    | Draw samples from a binomial distribution                                                            |\n",
        "| `normal`      | Draw samples from a normal (Gaussian) distribution                                                   |\n",
        "| `beta`        | Draw samples from a beta distribution                                                                |\n",
        "| `chisquare`   | Draw samples from a chi-square distribution                                                          |\n",
        "| `gamma`       | Draw samples from a gamma distribution                                                               |\n",
        "| `uniform`     | Draw samples from a uniform \\[0, 1\\) distribution                                                    |\n"
      ]
    }
  ],
  "metadata": {
    "kernelspec": {
      "display_name": "Python 3",
      "language": "python",
      "name": "python3"
    },
    "language_info": {
      "codemirror_mode": {
        "name": "ipython",
        "version": 3
      },
      "file_extension": ".py",
      "mimetype": "text/x-python",
      "name": "python",
      "nbconvert_exporter": "python",
      "pygments_lexer": "ipython3",
      "version": "3.11.2"
    },
    "orig_nbformat": 4
  },
  "nbformat": 4,
  "nbformat_minor": 2
}
