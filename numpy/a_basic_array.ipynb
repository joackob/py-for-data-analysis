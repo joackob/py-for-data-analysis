{
 "cells": [
  {
   "attachments": {},
   "cell_type": "markdown",
   "metadata": {},
   "source": [
    "# Numpy basics"
   ]
  },
  {
   "cell_type": "code",
   "execution_count": 5,
   "metadata": {},
   "outputs": [
    {
     "name": "stdout",
     "output_type": "stream",
     "text": [
      "Collecting numpy\n",
      "  Downloading numpy-1.24.2-cp311-cp311-win_amd64.whl (14.8 MB)\n",
      "     -------------------------------------- 14.8/14.8 MB 772.6 kB/s eta 0:00:00\n",
      "Installing collected packages: numpy\n",
      "Successfully installed numpy-1.24.2\n",
      "Note: you may need to restart the kernel to use updated packages.\n"
     ]
    },
    {
     "name": "stderr",
     "output_type": "stream",
     "text": [
      "  WARNING: The script f2py.exe is installed in 'C:\\Users\\blanc\\AppData\\Local\\Packages\\PythonSoftwareFoundation.Python.3.11_qbz5n2kfra8p0\\LocalCache\\local-packages\\Python311\\Scripts' which is not on PATH.\n",
      "  Consider adding this directory to PATH or, if you prefer to suppress this warning, use --no-warn-script-location.\n",
      "\n",
      "[notice] A new release of pip available: 22.3.1 -> 23.0.1\n",
      "[notice] To update, run: C:\\Users\\blanc\\AppData\\Local\\Microsoft\\WindowsApps\\PythonSoftwareFoundation.Python.3.11_qbz5n2kfra8p0\\python.exe -m pip install --upgrade pip\n"
     ]
    }
   ],
   "source": [
    "%pip install numpy"
   ]
  },
  {
   "cell_type": "code",
   "execution_count": null,
   "metadata": {},
   "outputs": [],
   "source": [
    "import numpy as np"
   ]
  },
  {
   "attachments": {},
   "cell_type": "markdown",
   "metadata": {},
   "source": [
    "# Creando arreglos"
   ]
  },
  {
   "cell_type": "code",
   "execution_count": 5,
   "metadata": {},
   "outputs": [
    {
     "name": "stdout",
     "output_type": "stream",
     "text": [
      "# vector con 10 ceros\n"
     ]
    },
    {
     "data": {
      "text/plain": [
       "array([0., 0., 0., 0., 0., 0., 0., 0., 0., 0.])"
      ]
     },
     "metadata": {},
     "output_type": "display_data"
    },
    {
     "name": "stdout",
     "output_type": "stream",
     "text": [
      "# vector con 5 unos\n"
     ]
    },
    {
     "data": {
      "text/plain": [
       "array([1., 1., 1., 1., 1.])"
      ]
     },
     "metadata": {},
     "output_type": "display_data"
    },
    {
     "name": "stdout",
     "output_type": "stream",
     "text": [
      "# vector con rango de numeros entre 40 y 55 (no inclusive)\n"
     ]
    },
    {
     "data": {
      "text/plain": [
       "array([40, 41, 42, 43, 44, 45, 46, 47, 48, 49, 50, 51, 52, 53, 54])"
      ]
     },
     "metadata": {},
     "output_type": "display_data"
    },
    {
     "name": "stdout",
     "output_type": "stream",
     "text": [
      "# vector con 10 números equiespaciados entre 0 y 1\n"
     ]
    },
    {
     "data": {
      "text/plain": [
       "array([0.        , 0.11111111, 0.22222222, 0.33333333, 0.44444444,\n",
       "       0.55555556, 0.66666667, 0.77777778, 0.88888889, 1.        ])"
      ]
     },
     "metadata": {},
     "output_type": "display_data"
    },
    {
     "name": "stdout",
     "output_type": "stream",
     "text": [
      "# vector aleatorio de 10 números entre 0 y 1\n"
     ]
    },
    {
     "data": {
      "text/plain": [
       "array([0.7869521 , 0.05773551, 0.11088003, 0.07584425, 0.60734091,\n",
       "       0.90940095, 0.15828708, 0.13814963, 0.71945988, 0.66334911])"
      ]
     },
     "metadata": {},
     "output_type": "display_data"
    },
    {
     "name": "stdout",
     "output_type": "stream",
     "text": [
      "# probemos con arreglos bidimencionales o matrices\n"
     ]
    },
    {
     "data": {
      "text/plain": [
       "array([[0.81311435, 0.71091179, 0.71836014, 0.35174892],\n",
       "       [0.34705693, 0.05259555, 0.97193674, 0.76235089],\n",
       "       [0.2369444 , 0.13660004, 0.23357988, 0.45702961]])"
      ]
     },
     "metadata": {},
     "output_type": "display_data"
    }
   ],
   "source": [
    "print('# vector con 10 ceros')\n",
    "x = np.zeros(10)\n",
    "display(x)\n",
    "\n",
    "print('# vector con 5 unos')\n",
    "x = np.ones(5)\n",
    "display(x)\n",
    "\n",
    "print('# vector con rango de numeros entre 40 y 55 (no inclusive)')\n",
    "x = np.arange(40,55)\n",
    "display(x)\n",
    "\n",
    "print('# vector con 10 números equiespaciados entre 0 y 1')\n",
    "x = np.linspace(0,1,10)\n",
    "display(x)\n",
    "\n",
    "print('# vector aleatorio de 10 números entre 0 y 1')\n",
    "x = np.random.rand(10)\n",
    "display(x)\n",
    "\n",
    "print('# probemos con arreglos bidimencionales o matrices')\n",
    "x = np.random.rand(3,4)\n",
    "display(x)"
   ]
  },
  {
   "attachments": {},
   "cell_type": "markdown",
   "metadata": {},
   "source": [
    "## Operaciones entre arreglos"
   ]
  },
  {
   "attachments": {},
   "cell_type": "markdown",
   "metadata": {},
   "source": [
    "`numpy` opera bajo las operaciones tradicionales entre arreglos."
   ]
  },
  {
   "cell_type": "code",
   "execution_count": 6,
   "metadata": {},
   "outputs": [
    {
     "name": "stdout",
     "output_type": "stream",
     "text": [
      "# operaciones entre vectores y números\n"
     ]
    },
    {
     "data": {
      "text/plain": [
       "array([0, 1, 2, 3, 4, 5, 6, 7, 8, 9])"
      ]
     },
     "metadata": {},
     "output_type": "display_data"
    },
    {
     "data": {
      "text/plain": [
       "array([ 0, 10, 20, 30, 40, 50, 60, 70, 80, 90])"
      ]
     },
     "metadata": {},
     "output_type": "display_data"
    },
    {
     "name": "stdout",
     "output_type": "stream",
     "text": [
      "# operaciones entre vectores\n"
     ]
    },
    {
     "data": {
      "text/plain": [
       "array([1., 1., 1., 1., 1., 1., 1., 1., 1., 1.])"
      ]
     },
     "metadata": {},
     "output_type": "display_data"
    },
    {
     "data": {
      "text/plain": [
       "array([0.58037149, 0.28730371, 0.01881533, 0.57590355, 0.85877269,\n",
       "       0.16344336, 0.77386127, 0.23845376, 0.99207878, 0.8741389 ])"
      ]
     },
     "metadata": {},
     "output_type": "display_data"
    },
    {
     "data": {
      "text/plain": [
       "array([1.58037149, 1.28730371, 1.01881533, 1.57590355, 1.85877269,\n",
       "       1.16344336, 1.77386127, 1.23845376, 1.99207878, 1.8741389 ])"
      ]
     },
     "metadata": {},
     "output_type": "display_data"
    },
    {
     "name": "stdout",
     "output_type": "stream",
     "text": [
      "# aplicar funciones a vectores\n"
     ]
    },
    {
     "data": {
      "text/plain": [
       "array([0.        , 0.11111111, 0.22222222, 0.33333333, 0.44444444,\n",
       "       0.55555556, 0.66666667, 0.77777778, 0.88888889, 1.        ])"
      ]
     },
     "metadata": {},
     "output_type": "display_data"
    },
    {
     "data": {
      "text/plain": [
       "array([ 0.00000000e+00,  6.42787610e-01,  9.84807753e-01,  8.66025404e-01,\n",
       "        3.42020143e-01, -3.42020143e-01, -8.66025404e-01, -9.84807753e-01,\n",
       "       -6.42787610e-01, -2.44929360e-16])"
      ]
     },
     "metadata": {},
     "output_type": "display_data"
    }
   ],
   "source": [
    "print('# operaciones entre vectores y números')\n",
    "x = np.arange(10)\n",
    "display(x, x*10)\n",
    "\n",
    "print('# operaciones entre vectores')\n",
    "x = np.ones(10)\n",
    "y = np.random.rand(10)\n",
    "display(x,y,x + y)\n",
    "\n",
    "print('# aplicar funciones a vectores')\n",
    "x = np.linspace(0,1,10)  # \n",
    "y = np.sin(2*np.pi*x)\n",
    "display(x,y)"
   ]
  },
  {
   "cell_type": "code",
   "execution_count": null,
   "metadata": {},
   "outputs": [],
   "source": [
    "x = np.zeros((3,3))\n",
    "display(x)\n",
    "\n",
    "print('# asignando un valor en la fila 2 y la columna 3')\n",
    "x[1,2] = 1\n",
    "display(x)\n",
    "\n",
    "print('# asignando un valor a todos los elementos de la fila 0')\n",
    "x[0,:] = 2\n",
    "display(x)\n",
    "\n",
    "print('# asignando un valor a todos los elementos de la columna 0')\n",
    "x[:,0] = 3\n",
    "display(x)\n",
    "\n",
    "print('# asignando con lista de índices')\n",
    "x[[0,2],[2,1]] = 4\n",
    "display(x)\n",
    "\n",
    "print('# asignando con mascaras booleanas')\n",
    "x[x==4] = 5\n",
    "display(x)"
   ]
  }
 ],
 "metadata": {
  "kernelspec": {
   "display_name": "Python 3",
   "language": "python",
   "name": "python3"
  },
  "language_info": {
   "codemirror_mode": {
    "name": "ipython",
    "version": 3
   },
   "file_extension": ".py",
   "mimetype": "text/x-python",
   "name": "python",
   "nbconvert_exporter": "python",
   "pygments_lexer": "ipython3",
   "version": "3.11.2"
  },
  "orig_nbformat": 4,
  "vscode": {
   "interpreter": {
    "hash": "0f5d422d05320ee792d486d56c16ea521f7ceaefd6e5be36f3318d538e4b8cb1"
   }
  }
 },
 "nbformat": 4,
 "nbformat_minor": 2
}
