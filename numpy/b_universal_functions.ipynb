{
  "cells": [
    {
      "cell_type": "code",
      "execution_count": 1,
      "metadata": {},
      "outputs": [],
      "source": [
        "import numpy as np\n"
      ]
    },
    {
      "attachments": {},
      "cell_type": "markdown",
      "metadata": {},
      "source": [
        "# Universal Functions: Fast Element-Wise Array Functions\n",
        "\n",
        "A universal function, or ufunc, is a function that performs element-wise operations on data in ndarrays. You can think of them as fast vectorized wrappers for simple functions that take one or more scalar values and produce one or more scalar results.\n",
        "\n",
        "Many ufuncs are simple element-wise transformations, like sqrt or exp:\n"
      ]
    },
    {
      "cell_type": "code",
      "execution_count": 2,
      "metadata": {},
      "outputs": [
        {
          "data": {
            "text/plain": [
              "array([ 0,  1,  2,  3,  4,  5,  6,  7,  8,  9, 10, 11])"
            ]
          },
          "execution_count": 2,
          "metadata": {},
          "output_type": "execute_result"
        }
      ],
      "source": [
        "x = np.arange(start=0, stop=12)\n",
        "x\n"
      ]
    },
    {
      "cell_type": "code",
      "execution_count": 3,
      "metadata": {},
      "outputs": [
        {
          "data": {
            "text/plain": [
              "array([0.        , 1.        , 1.41421356, 1.73205081, 2.        ,\n",
              "       2.23606798, 2.44948974, 2.64575131, 2.82842712, 3.        ,\n",
              "       3.16227766, 3.31662479])"
            ]
          },
          "execution_count": 3,
          "metadata": {},
          "output_type": "execute_result"
        }
      ],
      "source": [
        "x = np.sqrt(x)\n",
        "x\n"
      ]
    },
    {
      "attachments": {},
      "cell_type": "markdown",
      "metadata": {},
      "source": [
        "These are referred to as unary ufuncs. Others, such as add or maximum, take two arrays (thus, binary ufuncs) and return a single array as the result:\n"
      ]
    },
    {
      "cell_type": "code",
      "execution_count": 4,
      "metadata": {},
      "outputs": [
        {
          "data": {
            "text/plain": [
              "(array([[-0.58963252, -0.603893  , -0.47095728]]),\n",
              " array([[-0.33393137, -0.76835324, -3.30166471]]))"
            ]
          },
          "execution_count": 4,
          "metadata": {},
          "output_type": "execute_result"
        }
      ],
      "source": [
        "x = np.random.randn(1, 3)\n",
        "y = np.random.randn(1, 3)\n",
        "x, y\n"
      ]
    },
    {
      "cell_type": "code",
      "execution_count": 5,
      "metadata": {},
      "outputs": [
        {
          "data": {
            "text/plain": [
              "array([[-0.33393137, -0.603893  , -0.47095728]])"
            ]
          },
          "execution_count": 5,
          "metadata": {},
          "output_type": "execute_result"
        }
      ],
      "source": [
        "z = np.maximum(x, y)\n",
        "z\n"
      ]
    },
    {
      "cell_type": "code",
      "execution_count": 6,
      "metadata": {},
      "outputs": [
        {
          "data": {
            "text/plain": [
              "(array([[-0.58963252, -0.603893  , -0.47095728]]), array([[-0., -0., -0.]]))"
            ]
          },
          "execution_count": 6,
          "metadata": {},
          "output_type": "execute_result"
        }
      ],
      "source": [
        "remainder, whole = np.modf(x)\n",
        "remainder, whole\n"
      ]
    },
    {
      "attachments": {},
      "cell_type": "markdown",
      "metadata": {},
      "source": [
        "| Function                                                     | Description                                                                                                     |\n",
        "| :----------------------------------------------------------- | :-------------------------------------------------------------------------------------------------------------- |\n",
        "| `abs, fabs`                                                  | Compute the absolute value element-wise for integer, floating-point, or complex values                          |\n",
        "| `sqrt`                                                       | Compute the square root of each element (equivalent to `arr ** 0.5`)                                            |\n",
        "| `square`                                                     | Compute the square of each element (equivalent to `arr ** 2`)                                                   |\n",
        "| `exp`                                                        | Compute the exponent ex of each element                                                                         |\n",
        "| `log, log10, log2, log1p`                                    | Natural logarithm (base _e_), log base 10, log base 2, and log(1 + x), respectively                             |\n",
        "| `sign`                                                       | Compute the sign of each element: 1 (positive), 0 (zero), or –1 (negative)                                      |\n",
        "| `ceil`                                                       | Compute the ceiling of each element (i.e., the smallest integer greater than or equal to that number)           |\n",
        "| `floor`                                                      | Compute the floor of each element (i.e., the largest integer less than or equal to each element)                |\n",
        "| `rint`                                                       | Round elements to the nearest integer, preserving the `dtype`                                                   |\n",
        "| `modf`                                                       | Return fractional and integral parts of array as a separate array                                               |\n",
        "| `isnan`                                                      | Return boolean array indicating whether each value is `NaN` (Not a Number)                                      |\n",
        "| `isfinite, isinf`                                            | Return boolean array indicating whether each element is finite (non-`inf`, non-`NaN`) or infinite, respectively |\n",
        "| `cos, cosh, sin, sinh, tan, tanh`                            | Regular and hyperbolic trigonometric functions                                                                  |\n",
        "| `arccos, arccosh, arcsin, arcsinh, arctan, arctanh`          | Inverse trigonometric functions                                                                                 |\n",
        "| `logical_not`                                                | Compute truth value of `not x` element-wise (equivalent to `~arr`).                                             |\n",
        "| `add`                                                        | Add corresponding elements in arrays                                                                            |\n",
        "| `subtract`                                                   | Subtract elements in second array from first array                                                              |\n",
        "| `multiply`                                                   | Multiply array elements                                                                                         |\n",
        "| `divide, floor_divide`                                       | Divide or floor divide (truncating the remainder)                                                               |\n",
        "| `power`                                                      | Raise elements in first array to powers indicated in second array                                               |\n",
        "| `maximum, fmax`                                              | Element-wise maximum; `fmax` ignores `NaN`                                                                      |\n",
        "| `minimum, fmin`                                              | Element-wise minimum; `fmin` ignores `NaN`                                                                      |\n",
        "| `mod`                                                        | Element-wise modulus (remainder of division)                                                                    |\n",
        "| `copysign`                                                   | Copy sign of values in second argument to values in first argument                                              |\n",
        "| `greater, greater_equal, less, less_equal, equal, not_equal` | Perform element-wise comparison, yielding boolean array (equivalent to infix operators `>, >=, <, <=, ==, !=`)  |\n",
        "| `logical_and, logical_or, logical_xor`                       | Compute element-wise truth value of logical operation (equivalent to infix operators `& \\| , ^`)                |\n"
      ]
    }
  ],
  "metadata": {
    "kernelspec": {
      "display_name": "Python 3",
      "language": "python",
      "name": "python3"
    },
    "language_info": {
      "codemirror_mode": {
        "name": "ipython",
        "version": 3
      },
      "file_extension": ".py",
      "mimetype": "text/x-python",
      "name": "python",
      "nbconvert_exporter": "python",
      "pygments_lexer": "ipython3",
      "version": "3.11.2"
    },
    "orig_nbformat": 4
  },
  "nbformat": 4,
  "nbformat_minor": 2
}
